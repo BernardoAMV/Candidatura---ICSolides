{
 "cells": [
  {
   "cell_type": "code",
   "execution_count": 3,
   "metadata": {},
   "outputs": [
    {
     "name": "stdout",
     "output_type": "stream",
     "text": [
      "NAME               ID              SIZE      MODIFIED       \n",
      "llama3.1:8b        42182419e950    4.7 GB    22 minutes ago    \n",
      "llama3.2:latest    a80c4f17acd5    2.0 GB    7 days ago        \n"
     ]
    }
   ],
   "source": [
    "import ollama\n",
    "\n",
    "!ollama list"
   ]
  },
  {
   "cell_type": "code",
   "execution_count": 1,
   "metadata": {},
   "outputs": [
    {
     "name": "stdout",
     "output_type": "stream",
     "text": [
      "Um interpretador é uma pessoa que traduz, interpreta ou explica textos, falas, gestos ou comportamentos de um idioma para outro. Eles são profissionais especializados em linguística e comunicação, com conhecimento em vários idiomas e culturas.\n",
      "\n",
      "Os interpretadores podem realizar várias funções, incluindo:\n",
      "\n",
      "1. Tradução: converter texto de um idioma para outro.\n",
      "2. Interpretação: interpretar falas ou gestos em tempo real, traduzindo-as para o idioma correspondente.\n",
      "3. Explicação: explicar conceitos, termos ou contextos culturais para ajudar a entender melhor.\n",
      "\n",
      "Os interpretadores podem trabalhar em várias áreas, como:\n",
      "\n",
      "1. Negócios e comércio internacional\n",
      "2. Turismo e viagens\n",
      "3. Educação e ensino\n",
      "4. Justiça e direito\n",
      "5. Saúde e medicina\n",
      "\n",
      "Existem diferentes tipos de interpretadores, incluindo:\n",
      "\n",
      "1. Interpretadores simultâneos: que traduzem falas ou textos em tempo real.\n",
      "2. Interpretadores consecutivos: que traduzem texto escrito posteriormente à interpretação.\n",
      "3. Interpretadores estagiários: que aprendem e desenvolvem suas habilidades como interpretadores.\n",
      "\n",
      "Em resumo, um interpretador é uma pessoa especializada em linguística e comunicação que ajuda a entender melhor textos, falas ou comportamentos de diferentes culturas e idiomas.\n"
     ]
    },
    {
     "ename": "NameError",
     "evalue": "name 'Client' is not defined",
     "output_type": "error",
     "traceback": [
      "\u001b[0;31m---------------------------------------------------------------------------\u001b[0m",
      "\u001b[0;31mNameError\u001b[0m                                 Traceback (most recent call last)",
      "Cell \u001b[0;32mIn[1], line 12\u001b[0m\n\u001b[1;32m      6\u001b[0m output \u001b[38;5;241m=\u001b[39m ollama\u001b[38;5;241m.\u001b[39mgenerate(\n\u001b[1;32m      7\u001b[0m     model\u001b[38;5;241m=\u001b[39m\u001b[38;5;124m\"\u001b[39m\u001b[38;5;124mllama3.2\u001b[39m\u001b[38;5;124m\"\u001b[39m,\n\u001b[1;32m      8\u001b[0m     prompt\u001b[38;5;241m=\u001b[39m\u001b[38;5;124mf\u001b[39m\u001b[38;5;124m\"\"\"\u001b[39m\u001b[38;5;124mresponda essa pergunta : \u001b[39m\u001b[38;5;132;01m{\u001b[39;00mprompt\u001b[38;5;132;01m}\u001b[39;00m\u001b[38;5;124m\"\"\"\u001b[39m\n\u001b[1;32m      9\u001b[0m )\n\u001b[1;32m     10\u001b[0m \u001b[38;5;28mprint\u001b[39m(output[\u001b[38;5;124m\"\u001b[39m\u001b[38;5;124mresponse\u001b[39m\u001b[38;5;124m\"\u001b[39m])\n\u001b[0;32m---> 12\u001b[0m ollama \u001b[38;5;241m=\u001b[39m \u001b[43mClient\u001b[49m(host\u001b[38;5;241m=\u001b[39m\u001b[38;5;124m'\u001b[39m\u001b[38;5;124mmy.ollama.host\u001b[39m\u001b[38;5;124m'\u001b[39m)\n",
      "\u001b[0;31mNameError\u001b[0m: name 'Client' is not defined"
     ]
    }
   ],
   "source": [
    "import ollama\n",
    "\n",
    "data=\"\"\n",
    "\n",
    "output = ollama.chat( model='llama3.2', messages=[\n",
    "    {\n",
    "        'role': 'user',\n",
    "        'prompt': 'Você é um assistente conversacional, não responda questões fora do assunto, se o usuário trouxer perguntas sobre o tema, responda elas, mas o relembre de continuar o processo'\n",
    "        'content': \n",
    "    }\n",
    "]\n",
    "   \n",
    ")\n",
    "print(output[\"response\"])"
   ]
  }
 ],
 "metadata": {
  "kernelspec": {
   "display_name": "Python 3",
   "language": "python",
   "name": "python3"
  },
  "language_info": {
   "codemirror_mode": {
    "name": "ipython",
    "version": 3
   },
   "file_extension": ".py",
   "mimetype": "text/x-python",
   "name": "python",
   "nbconvert_exporter": "python",
   "pygments_lexer": "ipython3",
   "version": "3.10.12"
  }
 },
 "nbformat": 4,
 "nbformat_minor": 2
}
